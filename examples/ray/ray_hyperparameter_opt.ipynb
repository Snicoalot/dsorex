{
 "cells": [
  {
   "cell_type": "markdown",
   "id": "986bcaab",
   "metadata": {},
   "source": [
    "# Distributed Hypermeter Optimization\n",
    "\n",
    "This example utilizes the Ray Framework to conduct distributed hyperparameter\n",
    "optimization using the Bayesian Optimization HyperBand (BOHB) optimization\n",
    "technique. Bayesian Optimization HyperBand (BOHB) combines the benefits of\n",
    "Bayesian optimization together with Bandit-based methods (e.g. HyperBand). \n",
    "BOHB does not rely on the gradient of the objective function, but instead,\n",
    "learns from samples of the search space. It is suitable for optimizing functions\n",
    "that are non-differentiable, with many local minima, or even unknown but only\n",
    "testable. Therefore, this approach belongs to the domain of \"derivative-free\n",
    "optimization\" and \"black-box optimization\".\n",
    "\n",
    "In this example we minimize a simple objective to briefly demonstrate the usage of\n",
    "BOHB with Ray Tune via `BOHBSearch`. It's useful to keep in mind that despite\n",
    "the emphasis on machine learning experiments, Ray Tune optimizes any implicit\n",
    "or explicit objective. Here we assume `ConfigSpace`, `pyarrow`, and `hpbandster==0.7.4`\n",
    "libraries are installed. To learn more, please refer to the\n",
    "[BOHB website](https://github.com/automl/HpBandSter)."
   ]
  },
  {
   "cell_type": "code",
   "execution_count": 1,
   "id": "d12bd979",
   "metadata": {
    "tags": [
     "remove-cell"
    ]
   },
   "outputs": [
    {
     "name": "stdout",
     "output_type": "stream",
     "text": [
      "Requirement already satisfied: ConfigSpace in ./.venv/lib/python3.11/site-packages (0.7.1)\n",
      "Requirement already satisfied: numpy in ./.venv/lib/python3.11/site-packages (from ConfigSpace) (1.25.0)\n",
      "Requirement already satisfied: pyparsing in ./.venv/lib/python3.11/site-packages (from ConfigSpace) (3.0.9)\n",
      "Requirement already satisfied: scipy in ./.venv/lib/python3.11/site-packages (from ConfigSpace) (1.11.1)\n",
      "Requirement already satisfied: typing-extensions in ./.venv/lib/python3.11/site-packages (from ConfigSpace) (4.7.1)\n",
      "Requirement already satisfied: more-itertools in ./.venv/lib/python3.11/site-packages (from ConfigSpace) (10.1.0)\n",
      "\n",
      "\u001b[1m[\u001b[0m\u001b[34;49mnotice\u001b[0m\u001b[1;39;49m]\u001b[0m\u001b[39;49m A new release of pip is available: \u001b[0m\u001b[31;49m23.0.1\u001b[0m\u001b[39;49m -> \u001b[0m\u001b[32;49m24.0\u001b[0m\n",
      "\u001b[1m[\u001b[0m\u001b[34;49mnotice\u001b[0m\u001b[1;39;49m]\u001b[0m\u001b[39;49m To update, run: \u001b[0m\u001b[32;49mpip install --upgrade pip\u001b[0m\n",
      "Requirement already satisfied: pyarrow in ./.venv/lib/python3.11/site-packages (12.0.1)\n",
      "Requirement already satisfied: numpy>=1.16.6 in ./.venv/lib/python3.11/site-packages (from pyarrow) (1.25.0)\n",
      "\n",
      "\u001b[1m[\u001b[0m\u001b[34;49mnotice\u001b[0m\u001b[1;39;49m]\u001b[0m\u001b[39;49m A new release of pip is available: \u001b[0m\u001b[31;49m23.0.1\u001b[0m\u001b[39;49m -> \u001b[0m\u001b[32;49m24.0\u001b[0m\n",
      "\u001b[1m[\u001b[0m\u001b[34;49mnotice\u001b[0m\u001b[1;39;49m]\u001b[0m\u001b[39;49m To update, run: \u001b[0m\u001b[32;49mpip install --upgrade pip\u001b[0m\n",
      "Requirement already satisfied: hpbandster==0.7.4 in ./.venv/lib/python3.11/site-packages (0.7.4)\n",
      "Requirement already satisfied: Pyro4 in ./.venv/lib/python3.11/site-packages (from hpbandster==0.7.4) (4.82)\n",
      "Requirement already satisfied: serpent in ./.venv/lib/python3.11/site-packages (from hpbandster==0.7.4) (1.41)\n",
      "Requirement already satisfied: ConfigSpace in ./.venv/lib/python3.11/site-packages (from hpbandster==0.7.4) (0.7.1)\n",
      "Requirement already satisfied: numpy in ./.venv/lib/python3.11/site-packages (from hpbandster==0.7.4) (1.25.0)\n",
      "Requirement already satisfied: statsmodels in ./.venv/lib/python3.11/site-packages (from hpbandster==0.7.4) (0.14.0)\n",
      "Requirement already satisfied: scipy in ./.venv/lib/python3.11/site-packages (from hpbandster==0.7.4) (1.11.1)\n",
      "Requirement already satisfied: netifaces in ./.venv/lib/python3.11/site-packages (from hpbandster==0.7.4) (0.11.0)\n",
      "Requirement already satisfied: pyparsing in ./.venv/lib/python3.11/site-packages (from ConfigSpace->hpbandster==0.7.4) (3.0.9)\n",
      "Requirement already satisfied: typing-extensions in ./.venv/lib/python3.11/site-packages (from ConfigSpace->hpbandster==0.7.4) (4.7.1)\n",
      "Requirement already satisfied: more-itertools in ./.venv/lib/python3.11/site-packages (from ConfigSpace->hpbandster==0.7.4) (10.1.0)\n",
      "Requirement already satisfied: pandas>=1.0 in ./.venv/lib/python3.11/site-packages (from statsmodels->hpbandster==0.7.4) (2.0.3)\n",
      "Requirement already satisfied: patsy>=0.5.2 in ./.venv/lib/python3.11/site-packages (from statsmodels->hpbandster==0.7.4) (0.5.3)\n",
      "Requirement already satisfied: packaging>=21.3 in ./.venv/lib/python3.11/site-packages (from statsmodels->hpbandster==0.7.4) (23.1)\n",
      "Requirement already satisfied: python-dateutil>=2.8.2 in ./.venv/lib/python3.11/site-packages (from pandas>=1.0->statsmodels->hpbandster==0.7.4) (2.8.2)\n",
      "Requirement already satisfied: pytz>=2020.1 in ./.venv/lib/python3.11/site-packages (from pandas>=1.0->statsmodels->hpbandster==0.7.4) (2023.3)\n",
      "Requirement already satisfied: tzdata>=2022.1 in ./.venv/lib/python3.11/site-packages (from pandas>=1.0->statsmodels->hpbandster==0.7.4) (2023.3)\n",
      "Requirement already satisfied: six in ./.venv/lib/python3.11/site-packages (from patsy>=0.5.2->statsmodels->hpbandster==0.7.4) (1.16.0)\n",
      "\n",
      "\u001b[1m[\u001b[0m\u001b[34;49mnotice\u001b[0m\u001b[1;39;49m]\u001b[0m\u001b[39;49m A new release of pip is available: \u001b[0m\u001b[31;49m23.0.1\u001b[0m\u001b[39;49m -> \u001b[0m\u001b[32;49m24.0\u001b[0m\n",
      "\u001b[1m[\u001b[0m\u001b[34;49mnotice\u001b[0m\u001b[1;39;49m]\u001b[0m\u001b[39;49m To update, run: \u001b[0m\u001b[32;49mpip install --upgrade pip\u001b[0m\n"
     ]
    }
   ],
   "source": [
    "!pip install ray[tune]\n",
    "!pip install ConfigSpace\n",
    "!pip install pyarrow\n",
    "!pip install hpbandster==0.7.4"
   ]
  },
  {
   "cell_type": "markdown",
   "id": "96641e94",
   "metadata": {},
   "source": [
    "Click below to see all the imports we need for this example.\n",
    "You can also launch directly into a Binder instance to run this notebook yourself.\n",
    "Just click on the rocket symbol at the top of the navigation."
   ]
  },
  {
   "cell_type": "code",
   "execution_count": 2,
   "id": "0e65ccdb",
   "metadata": {
    "tags": [
     "hide-input"
    ]
   },
   "outputs": [],
   "source": [
    "import time\n",
    "\n",
    "import ray\n",
    "from ray import air, tune\n",
    "from ray.air import session\n",
    "from ray.tune.schedulers.hb_bohb import HyperBandForBOHB\n",
    "from ray.tune.search.bohb import TuneBOHB\n",
    "import ConfigSpace as CS"
   ]
  },
  {
   "cell_type": "markdown",
   "id": "edba942a",
   "metadata": {},
   "source": [
    "Let's start by defining a simple evaluation function.\n",
    "We artificially sleep for a bit (`0.1` seconds) to simulate a long-running ML experiment.\n",
    "This setup assumes that we're running multiple `step`s of an experiment and try to tune\n",
    "two hyperparameters, namely `width` and `height`, and `activation`."
   ]
  },
  {
   "cell_type": "code",
   "execution_count": 3,
   "id": "af512205",
   "metadata": {},
   "outputs": [],
   "source": [
    "def evaluate(step, width, height, activation):\n",
    "    time.sleep(0.1)\n",
    "    activation_boost = 10 if activation==\"relu\" else 1\n",
    "    return (0.1 + width * step / 100) ** (-1) + height * 0.1 + activation_boost"
   ]
  },
  {
   "cell_type": "markdown",
   "id": "c073ea21",
   "metadata": {},
   "source": [
    "Next, our `objective` function takes a Tune `config`, evaluates the `score` of your\n",
    "experiment in a training loop, and uses `session.report` to report the `score` back to Tune."
   ]
  },
  {
   "cell_type": "code",
   "execution_count": 4,
   "id": "8a086e87",
   "metadata": {},
   "outputs": [],
   "source": [
    "def objective(config):\n",
    "    for step in range(config[\"steps\"]):\n",
    "        score = evaluate(step, config[\"width\"], config[\"height\"], config[\"activation\"])\n",
    "        session.report({\"iterations\": step, \"mean_loss\": score})"
   ]
  },
  {
   "cell_type": "code",
   "execution_count": 5,
   "id": "05d07329",
   "metadata": {
    "tags": [
     "remove-cell"
    ]
   },
   "outputs": [
    {
     "data": {
      "text/html": [
       "<div>\n",
       "    <div style=\"margin-left: 50px;display: flex;flex-direction: row;align-items: center\">\n",
       "        <h3 style=\"color: var(--jp-ui-font-color0)\">Ray</h3>\n",
       "        <svg version=\"1.1\" id=\"ray\" width=\"3em\" viewBox=\"0 0 144.5 144.6\" style=\"margin-left: 3em;margin-right: 3em\">\n",
       "            <g id=\"layer-1\">\n",
       "                <path fill=\"#00a2e9\" class=\"st0\" d=\"M97.3,77.2c-3.8-1.1-6.2,0.9-8.3,5.1c-3.5,6.8-9.9,9.9-17.4,9.6S58,88.1,54.8,81.2c-1.4-3-3-4-6.3-4.1\n",
       "                    c-5.6-0.1-9.9,0.1-13.1,6.4c-3.8,7.6-13.6,10.2-21.8,7.6C5.2,88.4-0.4,80.5,0,71.7c0.1-8.4,5.7-15.8,13.8-18.2\n",
       "                    c8.4-2.6,17.5,0.7,22.3,8c1.3,1.9,1.3,5.2,3.6,5.6c3.9,0.6,8,0.2,12,0.2c1.8,0,1.9-1.6,2.4-2.8c3.5-7.8,9.7-11.8,18-11.9\n",
       "                    c8.2-0.1,14.4,3.9,17.8,11.4c1.3,2.8,2.9,3.6,5.7,3.3c1-0.1,2,0.1,3,0c2.8-0.5,6.4,1.7,8.1-2.7s-2.3-5.5-4.1-7.5\n",
       "                    c-5.1-5.7-10.9-10.8-16.1-16.3C84,38,81.9,37.1,78,38.3C66.7,42,56.2,35.7,53,24.1C50.3,14,57.3,2.8,67.7,0.5\n",
       "                    C78.4-2,89,4.7,91.5,15.3c0.1,0.3,0.1,0.5,0.2,0.8c0.7,3.4,0.7,6.9-0.8,9.8c-1.7,3.2-0.8,5,1.5,7.2c6.7,6.5,13.3,13,19.8,19.7\n",
       "                    c1.8,1.8,3,2.1,5.5,1.2c9.1-3.4,17.9-0.6,23.4,7c4.8,6.9,4.6,16.1-0.4,22.9c-5.4,7.2-14.2,9.9-23.1,6.5c-2.3-0.9-3.5-0.6-5.1,1.1\n",
       "                    c-6.7,6.9-13.6,13.7-20.5,20.4c-1.8,1.8-2.5,3.2-1.4,5.9c3.5,8.7,0.3,18.6-7.7,23.6c-7.9,5-18.2,3.8-24.8-2.9\n",
       "                    c-6.4-6.4-7.4-16.2-2.5-24.3c4.9-7.8,14.5-11,23.1-7.8c3,1.1,4.7,0.5,6.9-1.7C91.7,98.4,98,92.3,104.2,86c1.6-1.6,4.1-2.7,2.6-6.2\n",
       "                    c-1.4-3.3-3.8-2.5-6.2-2.6C99.8,77.2,98.9,77.2,97.3,77.2z M72.1,29.7c5.5,0.1,9.9-4.3,10-9.8c0-0.1,0-0.2,0-0.3\n",
       "                    C81.8,14,77,9.8,71.5,10.2c-5,0.3-9,4.2-9.3,9.2c-0.2,5.5,4,10.1,9.5,10.3C71.8,29.7,72,29.7,72.1,29.7z M72.3,62.3\n",
       "                    c-5.4-0.1-9.9,4.2-10.1,9.7c0,0.2,0,0.3,0,0.5c0.2,5.4,4.5,9.7,9.9,10c5.1,0.1,9.9-4.7,10.1-9.8c0.2-5.5-4-10-9.5-10.3\n",
       "                    C72.6,62.3,72.4,62.3,72.3,62.3z M115,72.5c0.1,5.4,4.5,9.7,9.8,9.9c5.6-0.2,10-4.8,10-10.4c-0.2-5.4-4.6-9.7-10-9.7\n",
       "                    c-5.3-0.1-9.8,4.2-9.9,9.5C115,72.1,115,72.3,115,72.5z M19.5,62.3c-5.4,0.1-9.8,4.4-10,9.8c-0.1,5.1,5.2,10.4,10.2,10.3\n",
       "                    c5.6-0.2,10-4.9,9.8-10.5c-0.1-5.4-4.5-9.7-9.9-9.6C19.6,62.3,19.5,62.3,19.5,62.3z M71.8,134.6c5.9,0.2,10.3-3.9,10.4-9.6\n",
       "                    c0.5-5.5-3.6-10.4-9.1-10.8c-5.5-0.5-10.4,3.6-10.8,9.1c0,0.5,0,0.9,0,1.4c-0.2,5.3,4,9.8,9.3,10\n",
       "                    C71.6,134.6,71.7,134.6,71.8,134.6z\"/>\n",
       "            </g>\n",
       "        </svg>\n",
       "        <table>\n",
       "            <tr>\n",
       "                <td style=\"text-align: left\"><b>Python version:</b></td>\n",
       "                <td style=\"text-align: left\"><b>3.11.4</b></td>\n",
       "            </tr>\n",
       "            <tr>\n",
       "                <td style=\"text-align: left\"><b>Ray version:</b></td>\n",
       "                <td style=\"text-align: left\"><b> 2.5.1</b></td>\n",
       "            </tr>\n",
       "            \n",
       "        </table>\n",
       "    </div>\n",
       "</div>\n"
      ],
      "text/plain": [
       "RayContext(dashboard_url='', python_version='3.11.4', ray_version='2.5.1', ray_commit='a03efd9931128d387649dd48b0e4864b43d3bfb4', address_info={'node_ip_address': '127.0.0.1', 'raylet_ip_address': '127.0.0.1', 'redis_address': None, 'object_store_address': '/tmp/ray/session_2024-04-09_11-46-14_639316_33243/sockets/plasma_store', 'raylet_socket_name': '/tmp/ray/session_2024-04-09_11-46-14_639316_33243/sockets/raylet', 'webui_url': '', 'session_dir': '/tmp/ray/session_2024-04-09_11-46-14_639316_33243', 'metrics_export_port': 65043, 'gcs_address': '127.0.0.1:63411', 'address': '127.0.0.1:63411', 'dashboard_agent_listen_port': 52365, 'node_id': '8cbca64d799768190512aa47719c61dcfc5874b3e15d4d77bde47b5d'})"
      ]
     },
     "execution_count": 5,
     "metadata": {},
     "output_type": "execute_result"
    }
   ],
   "source": [
    "ray.init(configure_logging=False)"
   ]
  },
  {
   "cell_type": "markdown",
   "id": "32ee1ba7",
   "metadata": {},
   "source": [
    "Next we define a search space. The critical assumption is that the optimal\n",
    "hyperparameters live within this space. Yet, if the space is very large,\n",
    "then those hyperparameters may be difficult to find in a short amount of time."
   ]
  },
  {
   "cell_type": "code",
   "execution_count": 6,
   "id": "21598e54",
   "metadata": {},
   "outputs": [],
   "source": [
    "search_space = {\n",
    "    \"steps\": 100,\n",
    "    \"width\": tune.uniform(0, 20),\n",
    "    \"height\": tune.uniform(-100, 100),\n",
    "    \"activation\": tune.choice([\"relu\", \"tanh\"]),\n",
    "}"
   ]
  },
  {
   "cell_type": "markdown",
   "id": "def82932",
   "metadata": {},
   "source": [
    "Next we define the search algorithm built from `TuneBOHB`, constrained\n",
    "to a maximum of `4` concurrent trials with a `ConcurrencyLimiter`.\n",
    "Below `algo` will take care of the BO (Bayesian optimization) part of BOHB,\n",
    "while scheduler will take care the HB (HyperBand) part."
   ]
  },
  {
   "cell_type": "code",
   "execution_count": 7,
   "id": "e847b5b6",
   "metadata": {},
   "outputs": [],
   "source": [
    "algo = TuneBOHB()\n",
    "algo = tune.search.ConcurrencyLimiter(algo, max_concurrent=4)\n",
    "scheduler = HyperBandForBOHB(\n",
    "    time_attr=\"training_iteration\",\n",
    "    max_t=100,\n",
    "    reduction_factor=4,\n",
    "    stop_last_trials=False,\n",
    ")"
   ]
  },
  {
   "cell_type": "markdown",
   "id": "1787a842",
   "metadata": {},
   "source": [
    "The number of samples is the number of hyperparameter combinations\n",
    "that will be tried out. This Tune run is set to `1000` samples.\n",
    "(you can decrease this if it takes too long on your machine)."
   ]
  },
  {
   "cell_type": "code",
   "execution_count": 8,
   "id": "702eb3d4",
   "metadata": {},
   "outputs": [],
   "source": [
    "num_samples = 1000"
   ]
  },
  {
   "cell_type": "code",
   "execution_count": 9,
   "id": "dfb3ecad",
   "metadata": {
    "pycharm": {
     "name": "#%%\n"
    },
    "tags": [
     "remove-cell"
    ]
   },
   "outputs": [],
   "source": [
    "num_samples = 10"
   ]
  },
  {
   "cell_type": "markdown",
   "id": "aa5936df",
   "metadata": {},
   "source": [
    "Finally, we run the experiment to `min`imize the \"mean_loss\" of the `objective`\n",
    "by searching within `\"steps\": 100` via `algo`, `num_samples` times. This previous\n",
    "sentence is fully characterizes the search problem we aim to solve.\n",
    "With this in mind, notice how efficient it is to execute `tuner.fit()`."
   ]
  },
  {
   "cell_type": "code",
   "execution_count": 10,
   "id": "4bdfb12d",
   "metadata": {},
   "outputs": [
    {
     "name": "stderr",
     "output_type": "stream",
     "text": [
      "You are using remote storage, but you don't have `fsspec` installed. This can lead to inefficient syncing behavior. To avoid this, install fsspec with `pip install fsspec`. Depending on your remote storage provider, consider installing the respective fsspec-package (see https://github.com/fsspec).\n",
      "The TensorboardX logger cannot be instantiated because either TensorboardX or one of it's dependencies is not installed. Please make sure you have the latest version of TensorboardX installed: `pip install -U tensorboardx`\n"
     ]
    },
    {
     "data": {
      "text/html": [
       "<div class=\"tuneStatus\">\n",
       "  <div style=\"display: flex;flex-direction: row\">\n",
       "    <div style=\"display: flex;flex-direction: column;\">\n",
       "      <h3>Tune Status</h3>\n",
       "      <table>\n",
       "<tbody>\n",
       "<tr><td>Current time:</td><td>2024-04-09 11:46:52</td></tr>\n",
       "<tr><td>Running for: </td><td>00:00:19.36        </td></tr>\n",
       "<tr><td>Memory:      </td><td>10.5/16.0 GiB      </td></tr>\n",
       "</tbody>\n",
       "</table>\n",
       "    </div>\n",
       "    <div class=\"vDivider\"></div>\n",
       "    <div class=\"systemInfo\">\n",
       "      <h3>System Info</h3>\n",
       "      Using HyperBand: num_stopped=9 total_brackets=1<br>Round #0:<br>  Bracket(Max Size (n)=1, Milestone (r)=64, completed=66.8%): {TERMINATED: 10} <br>Logical resource usage: 1.0/8 CPUs, 0/0 GPUs\n",
       "    </div>\n",
       "    \n",
       "  </div>\n",
       "  <div class=\"hDivider\"></div>\n",
       "  <div class=\"trialStatus\">\n",
       "    <h3>Trial Status</h3>\n",
       "    <table>\n",
       "<thead>\n",
       "<tr><th>Trial name        </th><th>status    </th><th>loc            </th><th>activation  </th><th style=\"text-align: right;\">  height</th><th style=\"text-align: right;\">    width</th><th style=\"text-align: right;\">     loss</th><th style=\"text-align: right;\">  iter</th><th style=\"text-align: right;\">  total time (s)</th><th style=\"text-align: right;\">  ts</th><th style=\"text-align: right;\">  iterations</th></tr>\n",
       "</thead>\n",
       "<tbody>\n",
       "<tr><td>objective_a7c061e0</td><td>TERMINATED</td><td>127.0.0.1:33329</td><td>tanh        </td><td style=\"text-align: right;\">-18.1708</td><td style=\"text-align: right;\">12.151   </td><td style=\"text-align: right;\">-0.734633</td><td style=\"text-align: right;\">   100</td><td style=\"text-align: right;\">       12.6643  </td><td style=\"text-align: right;\">   0</td><td style=\"text-align: right;\">          99</td></tr>\n",
       "<tr><td>objective_28d984f3</td><td>TERMINATED</td><td>127.0.0.1:33315</td><td>tanh        </td><td style=\"text-align: right;\"> 67.8506</td><td style=\"text-align: right;\"> 7.61442 </td><td style=\"text-align: right;\">10.8298  </td><td style=\"text-align: right;\">     4</td><td style=\"text-align: right;\">        0.573628</td><td style=\"text-align: right;\">   0</td><td style=\"text-align: right;\">           3</td></tr>\n",
       "<tr><td>objective_3f997772</td><td>TERMINATED</td><td>127.0.0.1:33316</td><td>tanh        </td><td style=\"text-align: right;\"> 75.7478</td><td style=\"text-align: right;\"> 5.39589 </td><td style=\"text-align: right;\">12.3934  </td><td style=\"text-align: right;\">     4</td><td style=\"text-align: right;\">        0.577673</td><td style=\"text-align: right;\">   0</td><td style=\"text-align: right;\">           3</td></tr>\n",
       "<tr><td>objective_de910ff8</td><td>TERMINATED</td><td>127.0.0.1:33318</td><td>tanh        </td><td style=\"text-align: right;\"> 99.478 </td><td style=\"text-align: right;\">16.8427  </td><td style=\"text-align: right;\">12.5999  </td><td style=\"text-align: right;\">     4</td><td style=\"text-align: right;\">        0.554793</td><td style=\"text-align: right;\">   0</td><td style=\"text-align: right;\">           3</td></tr>\n",
       "<tr><td>objective_cf11b025</td><td>TERMINATED</td><td>127.0.0.1:33317</td><td>relu        </td><td style=\"text-align: right;\"> 48.2904</td><td style=\"text-align: right;\"> 0.169285</td><td style=\"text-align: right;\">24.3457  </td><td style=\"text-align: right;\">     4</td><td style=\"text-align: right;\">        0.541351</td><td style=\"text-align: right;\">   0</td><td style=\"text-align: right;\">           3</td></tr>\n",
       "<tr><td>objective_084692a3</td><td>TERMINATED</td><td>127.0.0.1:33324</td><td>tanh        </td><td style=\"text-align: right;\"> 21.1933</td><td style=\"text-align: right;\">15.5789  </td><td style=\"text-align: right;\"> 3.5297  </td><td style=\"text-align: right;\">    16</td><td style=\"text-align: right;\">        2.21105 </td><td style=\"text-align: right;\">   0</td><td style=\"text-align: right;\">          15</td></tr>\n",
       "<tr><td>objective_3fa9fa28</td><td>TERMINATED</td><td>127.0.0.1:33318</td><td>tanh        </td><td style=\"text-align: right;\">-12.1725</td><td style=\"text-align: right;\"> 2.67796 </td><td style=\"text-align: right;\"> 5.32787 </td><td style=\"text-align: right;\">     4</td><td style=\"text-align: right;\">        0.556534</td><td style=\"text-align: right;\">   0</td><td style=\"text-align: right;\">           3</td></tr>\n",
       "<tr><td>objective_91f765fd</td><td>TERMINATED</td><td>127.0.0.1:33325</td><td>relu        </td><td style=\"text-align: right;\">-90.4565</td><td style=\"text-align: right;\">16.5441  </td><td style=\"text-align: right;\"> 1.34171 </td><td style=\"text-align: right;\">    16</td><td style=\"text-align: right;\">        2.23646 </td><td style=\"text-align: right;\">   0</td><td style=\"text-align: right;\">          15</td></tr>\n",
       "<tr><td>objective_c0c2bbc5</td><td>TERMINATED</td><td>127.0.0.1:33316</td><td>relu        </td><td style=\"text-align: right;\"> 53.466 </td><td style=\"text-align: right;\"> 7.60461 </td><td style=\"text-align: right;\">18.3941  </td><td style=\"text-align: right;\">     4</td><td style=\"text-align: right;\">        0.523289</td><td style=\"text-align: right;\">   0</td><td style=\"text-align: right;\">           3</td></tr>\n",
       "<tr><td>objective_34f36a0f</td><td>TERMINATED</td><td>127.0.0.1:33326</td><td>relu        </td><td style=\"text-align: right;\">-89.9658</td><td style=\"text-align: right;\">17.8408  </td><td style=\"text-align: right;\"> 1.36363 </td><td style=\"text-align: right;\">    16</td><td style=\"text-align: right;\">        2.24606 </td><td style=\"text-align: right;\">   0</td><td style=\"text-align: right;\">          15</td></tr>\n",
       "</tbody>\n",
       "</table>\n",
       "  </div>\n",
       "</div>\n",
       "<style>\n",
       ".tuneStatus {\n",
       "  color: var(--jp-ui-font-color1);\n",
       "}\n",
       ".tuneStatus .systemInfo {\n",
       "  display: flex;\n",
       "  flex-direction: column;\n",
       "}\n",
       ".tuneStatus td {\n",
       "  white-space: nowrap;\n",
       "}\n",
       ".tuneStatus .trialStatus {\n",
       "  display: flex;\n",
       "  flex-direction: column;\n",
       "}\n",
       ".tuneStatus h3 {\n",
       "  font-weight: bold;\n",
       "}\n",
       ".tuneStatus .hDivider {\n",
       "  border-bottom-width: var(--jp-border-width);\n",
       "  border-bottom-color: var(--jp-border-color0);\n",
       "  border-bottom-style: solid;\n",
       "}\n",
       ".tuneStatus .vDivider {\n",
       "  border-left-width: var(--jp-border-width);\n",
       "  border-left-color: var(--jp-border-color0);\n",
       "  border-left-style: solid;\n",
       "  margin: 0.5em 1em 0.5em 1em;\n",
       "}\n",
       "</style>\n"
      ],
      "text/plain": [
       "<IPython.core.display.HTML object>"
      ]
     },
     "metadata": {},
     "output_type": "display_data"
    },
    {
     "name": "stderr",
     "output_type": "stream",
     "text": [
      "You are trying to access _search_alg interface of TrialRunner in TrialScheduler, which is being restricted. If you believe it is reasonable for your scheduler to access this TrialRunner API, please reach out to Ray team on GitHub. A more strict API access pattern would be enforced starting 1.12s.0\n"
     ]
    },
    {
     "data": {
      "text/html": [
       "<div class=\"trialProgress\">\n",
       "  <h3>Trial Progress</h3>\n",
       "  <table>\n",
       "<thead>\n",
       "<tr><th>Trial name        </th><th>date               </th><th>done  </th><th>episodes_total  </th><th>hostname               </th><th style=\"text-align: right;\">  iterations</th><th style=\"text-align: right;\">  iterations_since_restore</th><th style=\"text-align: right;\">  mean_loss</th><th>node_ip  </th><th style=\"text-align: right;\">  pid</th><th style=\"text-align: right;\">  time_since_restore</th><th style=\"text-align: right;\">  time_this_iter_s</th><th style=\"text-align: right;\">  time_total_s</th><th style=\"text-align: right;\">  timestamp</th><th>timesteps_total  </th><th style=\"text-align: right;\">  training_iteration</th><th>trial_id  </th></tr>\n",
       "</thead>\n",
       "<tbody>\n",
       "<tr><td>objective_084692a3</td><td>2024-04-09_11-46-40</td><td>False </td><td>0               </td><td>Neils-MacBook-Air.local</td><td style=\"text-align: right;\">           6</td><td style=\"text-align: right;\">                         7</td><td style=\"text-align: right;\">   4.08576 </td><td>127.0.0.1</td><td style=\"text-align: right;\">33324</td><td style=\"text-align: right;\">            0.718058</td><td style=\"text-align: right;\">          0.10165 </td><td style=\"text-align: right;\">      1.24273 </td><td style=\"text-align: right;\"> 1712677600</td><td>0                </td><td style=\"text-align: right;\">                   7</td><td>084692a3  </td></tr>\n",
       "<tr><td>objective_28d984f3</td><td>2024-04-09_11-46-34</td><td>False </td><td>                </td><td>Neils-MacBook-Air.local</td><td style=\"text-align: right;\">           0</td><td style=\"text-align: right;\">                         1</td><td style=\"text-align: right;\">  17.7851  </td><td>127.0.0.1</td><td style=\"text-align: right;\">33302</td><td style=\"text-align: right;\">            0.100721</td><td style=\"text-align: right;\">          0.100721</td><td style=\"text-align: right;\">      0.100721</td><td style=\"text-align: right;\"> 1712677594</td><td>                 </td><td style=\"text-align: right;\">                   1</td><td>28d984f3  </td></tr>\n",
       "<tr><td>objective_34f36a0f</td><td>2024-04-09_11-46-41</td><td>True  </td><td>0               </td><td>Neils-MacBook-Air.local</td><td style=\"text-align: right;\">          15</td><td style=\"text-align: right;\">                        16</td><td style=\"text-align: right;\">   1.36363 </td><td>127.0.0.1</td><td style=\"text-align: right;\">33326</td><td style=\"text-align: right;\">            1.73358 </td><td style=\"text-align: right;\">          0.102987</td><td style=\"text-align: right;\">      2.24606 </td><td style=\"text-align: right;\"> 1712677601</td><td>0                </td><td style=\"text-align: right;\">                  16</td><td>34f36a0f  </td></tr>\n",
       "<tr><td>objective_3f997772</td><td>2024-04-09_11-46-34</td><td>False </td><td>                </td><td>Neils-MacBook-Air.local</td><td style=\"text-align: right;\">           0</td><td style=\"text-align: right;\">                         1</td><td style=\"text-align: right;\">  18.5748  </td><td>127.0.0.1</td><td style=\"text-align: right;\">33302</td><td style=\"text-align: right;\">            0.10332 </td><td style=\"text-align: right;\">          0.10332 </td><td style=\"text-align: right;\">      0.10332 </td><td style=\"text-align: right;\"> 1712677594</td><td>                 </td><td style=\"text-align: right;\">                   1</td><td>3f997772  </td></tr>\n",
       "<tr><td>objective_3fa9fa28</td><td>2024-04-09_11-46-35</td><td>False </td><td>                </td><td>Neils-MacBook-Air.local</td><td style=\"text-align: right;\">           0</td><td style=\"text-align: right;\">                         1</td><td style=\"text-align: right;\">   9.78275 </td><td>127.0.0.1</td><td style=\"text-align: right;\">33302</td><td style=\"text-align: right;\">            0.104727</td><td style=\"text-align: right;\">          0.104727</td><td style=\"text-align: right;\">      0.104727</td><td style=\"text-align: right;\"> 1712677595</td><td>                 </td><td style=\"text-align: right;\">                   1</td><td>3fa9fa28  </td></tr>\n",
       "<tr><td>objective_91f765fd</td><td>2024-04-09_11-46-40</td><td>False </td><td>0               </td><td>Neils-MacBook-Air.local</td><td style=\"text-align: right;\">           8</td><td style=\"text-align: right;\">                         9</td><td style=\"text-align: right;\">   1.65683 </td><td>127.0.0.1</td><td style=\"text-align: right;\">33325</td><td style=\"text-align: right;\">            0.936717</td><td style=\"text-align: right;\">          0.101809</td><td style=\"text-align: right;\">      1.45188 </td><td style=\"text-align: right;\"> 1712677600</td><td>0                </td><td style=\"text-align: right;\">                   9</td><td>91f765fd  </td></tr>\n",
       "<tr><td>objective_a7c061e0</td><td>2024-04-09_11-46-52</td><td>True  </td><td>0               </td><td>Neils-MacBook-Air.local</td><td style=\"text-align: right;\">          99</td><td style=\"text-align: right;\">                       100</td><td style=\"text-align: right;\">  -0.734633</td><td>127.0.0.1</td><td style=\"text-align: right;\">33329</td><td style=\"text-align: right;\">           10.4619  </td><td style=\"text-align: right;\">          0.105676</td><td style=\"text-align: right;\">     12.6643  </td><td style=\"text-align: right;\"> 1712677612</td><td>0                </td><td style=\"text-align: right;\">                 100</td><td>a7c061e0  </td></tr>\n",
       "<tr><td>objective_c0c2bbc5</td><td>2024-04-09_11-46-35</td><td>False </td><td>                </td><td>Neils-MacBook-Air.local</td><td style=\"text-align: right;\">           0</td><td style=\"text-align: right;\">                         1</td><td style=\"text-align: right;\">  25.3466  </td><td>127.0.0.1</td><td style=\"text-align: right;\">33302</td><td style=\"text-align: right;\">            0.104408</td><td style=\"text-align: right;\">          0.104408</td><td style=\"text-align: right;\">      0.104408</td><td style=\"text-align: right;\"> 1712677595</td><td>                 </td><td style=\"text-align: right;\">                   1</td><td>c0c2bbc5  </td></tr>\n",
       "<tr><td>objective_cf11b025</td><td>2024-04-09_11-46-34</td><td>False </td><td>                </td><td>Neils-MacBook-Air.local</td><td style=\"text-align: right;\">           0</td><td style=\"text-align: right;\">                         1</td><td style=\"text-align: right;\">  24.829   </td><td>127.0.0.1</td><td style=\"text-align: right;\">33302</td><td style=\"text-align: right;\">            0.105235</td><td style=\"text-align: right;\">          0.105235</td><td style=\"text-align: right;\">      0.105235</td><td style=\"text-align: right;\"> 1712677594</td><td>                 </td><td style=\"text-align: right;\">                   1</td><td>cf11b025  </td></tr>\n",
       "<tr><td>objective_de910ff8</td><td>2024-04-09_11-46-34</td><td>False </td><td>                </td><td>Neils-MacBook-Air.local</td><td style=\"text-align: right;\">           0</td><td style=\"text-align: right;\">                         1</td><td style=\"text-align: right;\">  20.9478  </td><td>127.0.0.1</td><td style=\"text-align: right;\">33302</td><td style=\"text-align: right;\">            0.105291</td><td style=\"text-align: right;\">          0.105291</td><td style=\"text-align: right;\">      0.105291</td><td style=\"text-align: right;\"> 1712677594</td><td>                 </td><td style=\"text-align: right;\">                   1</td><td>de910ff8  </td></tr>\n",
       "</tbody>\n",
       "</table>\n",
       "</div>\n",
       "<style>\n",
       ".trialProgress {\n",
       "  display: flex;\n",
       "  flex-direction: column;\n",
       "  color: var(--jp-ui-font-color1);\n",
       "}\n",
       ".trialProgress h3 {\n",
       "  font-weight: bold;\n",
       "}\n",
       ".trialProgress td {\n",
       "  white-space: nowrap;\n",
       "}\n",
       "</style>\n"
      ],
      "text/plain": [
       "<IPython.core.display.HTML object>"
      ]
     },
     "metadata": {},
     "output_type": "display_data"
    },
    {
     "name": "stderr",
     "output_type": "stream",
     "text": [
      "\u001b[2m\u001b[36m(objective pid=33315)\u001b[0m 2024-04-09 11:46:36,754\tINFO trainable.py:918 -- Restored on 127.0.0.1 from checkpoint: /Users/neil/ray_results/bohb_exp/objective_a7c061e0_1_activation=tanh,height=-18.1708,steps=100,width=12.1510_2024-04-09_11-46-33/checkpoint_tmped3fe4\n",
      "\u001b[2m\u001b[36m(objective pid=33315)\u001b[0m 2024-04-09 11:46:36,754\tINFO trainable.py:927 -- Current state after restoring: {'_iteration': 0, '_timesteps_total': 0, '_time_total': 0.10368919372558594, '_episodes_total': 0}\n",
      "\u001b[2m\u001b[36m(objective pid=33329)\u001b[0m 2024-04-09 11:46:41,948\tINFO trainable.py:918 -- Restored on 127.0.0.1 from checkpoint: /Users/neil/ray_results/bohb_exp/objective_a7c061e0_1_activation=tanh,height=-18.1708,steps=100,width=12.1510_2024-04-09_11-46-33/checkpoint_tmp9cab6d\u001b[32m [repeated 14x across cluster] (Ray deduplicates logs by default. Set RAY_DEDUP_LOGS=0 to disable log deduplication, or see https://docs.ray.io/en/master/ray-observability/ray-logging.html#log-deduplication for more options.)\u001b[0m\n",
      "\u001b[2m\u001b[36m(objective pid=33329)\u001b[0m 2024-04-09 11:46:41,948\tINFO trainable.py:927 -- Current state after restoring: {'_iteration': 0, '_timesteps_total': 0, '_time_total': 2.202407121658325, '_episodes_total': 0}\u001b[32m [repeated 14x across cluster]\u001b[0m\n"
     ]
    }
   ],
   "source": [
    "tuner = tune.Tuner(\n",
    "    objective,\n",
    "    tune_config=tune.TuneConfig(\n",
    "        metric=\"mean_loss\",\n",
    "        mode=\"min\",\n",
    "        search_alg=algo,\n",
    "        scheduler=scheduler,\n",
    "        num_samples=num_samples,\n",
    "    ),\n",
    "    run_config=air.RunConfig(\n",
    "        name=\"bohb_exp\",\n",
    "        stop={\"training_iteration\": 100},\n",
    "    ),\n",
    "    param_space=search_space,\n",
    ")\n",
    "results = tuner.fit()"
   ]
  },
  {
   "cell_type": "markdown",
   "id": "3e89853c",
   "metadata": {},
   "source": [
    "Here are the hyperparameters found to minimize the mean loss of the defined objective."
   ]
  },
  {
   "cell_type": "code",
   "execution_count": 11,
   "id": "4be691d5",
   "metadata": {},
   "outputs": [
    {
     "name": "stdout",
     "output_type": "stream",
     "text": [
      "Best hyperparameters found were:  {'steps': 100, 'width': 12.151027482869823, 'height': -18.17076073631992, 'activation': 'tanh'}\n"
     ]
    }
   ],
   "source": [
    "print(\"Best hyperparameters found were: \", results.get_best_result().config)"
   ]
  },
  {
   "cell_type": "markdown",
   "id": "800a19d9",
   "metadata": {},
   "source": [
    "## Optional: Passing the search space via the TuneBOHB algorithm\n",
    "\n",
    "We can define the hyperparameter search space using `ConfigSpace`,\n",
    "which is the format accepted by BOHB."
   ]
  },
  {
   "cell_type": "code",
   "execution_count": null,
   "id": "b96cb496",
   "metadata": {},
   "outputs": [],
   "source": [
    "config_space = CS.ConfigurationSpace()\n",
    "config_space.add_hyperparameter(\n",
    "    CS.Constant(\"steps\", 100)\n",
    ")\n",
    "config_space.add_hyperparameter(\n",
    "    CS.UniformFloatHyperparameter(\"width\", lower=0, upper=20)\n",
    ")\n",
    "config_space.add_hyperparameter(\n",
    "    CS.UniformFloatHyperparameter(\"height\", lower=-100, upper=100)\n",
    ")\n",
    "config_space.add_hyperparameter(\n",
    "    CS.CategoricalHyperparameter(\n",
    "        \"activation\", choices=[\"relu\", \"tanh\"]\n",
    "    )\n",
    ")"
   ]
  },
  {
   "cell_type": "code",
   "execution_count": null,
   "id": "9cb77270",
   "metadata": {},
   "outputs": [],
   "source": [
    "# As we are passing config space directly to the searcher,\n",
    "# we need to define metric and mode in it as well, in addition\n",
    "# to Tuner()\n",
    "algo = TuneBOHB(\n",
    "    space=config_space,\n",
    "    metric=\"mean_loss\",\n",
    "    mode=\"max\",\n",
    ")\n",
    "algo = tune.search.ConcurrencyLimiter(algo, max_concurrent=4)\n",
    "scheduler = HyperBandForBOHB(\n",
    "    time_attr=\"training_iteration\",\n",
    "    max_t=100,\n",
    "    reduction_factor=4,\n",
    "    stop_last_trials=False,\n",
    ")"
   ]
  },
  {
   "cell_type": "code",
   "execution_count": null,
   "id": "8305c975",
   "metadata": {
    "pycharm": {
     "name": "#%%\n"
    }
   },
   "outputs": [],
   "source": [
    "tuner = tune.Tuner(\n",
    "    objective,\n",
    "    tune_config=tune.TuneConfig(\n",
    "        metric=\"mean_loss\",\n",
    "        mode=\"min\",\n",
    "        search_alg=algo,\n",
    "        scheduler=scheduler,\n",
    "        num_samples=num_samples,\n",
    "    ),\n",
    "    run_config=air.RunConfig(\n",
    "        name=\"bohb_exp_2\",\n",
    "        stop={\"training_iteration\": 100},\n",
    "    ),\n",
    ")\n",
    "results = tuner.fit()"
   ]
  },
  {
   "cell_type": "markdown",
   "id": "5bf0dd87",
   "metadata": {},
   "source": [
    "Here again are the hyperparameters found to minimize the mean loss of the\n",
    "defined objective."
   ]
  },
  {
   "cell_type": "code",
   "execution_count": 12,
   "id": "1ae613e4",
   "metadata": {},
   "outputs": [
    {
     "name": "stdout",
     "output_type": "stream",
     "text": [
      "Best hyperparameters found were:  {'steps': 100, 'width': 12.151027482869823, 'height': -18.17076073631992, 'activation': 'tanh'}\n"
     ]
    }
   ],
   "source": [
    "print(\"Best hyperparameters found were: \", results.get_best_result().config)"
   ]
  },
  {
   "cell_type": "code",
   "execution_count": 13,
   "id": "6b83ef6d",
   "metadata": {
    "tags": [
     "remove-cell"
    ]
   },
   "outputs": [],
   "source": [
    "ray.shutdown()"
   ]
  },
  {
   "cell_type": "code",
   "execution_count": null,
   "id": "bb690996",
   "metadata": {},
   "outputs": [],
   "source": []
  }
 ],
 "metadata": {
  "kernelspec": {
   "display_name": "Python 3 (ipykernel)",
   "language": "python",
   "name": "python3"
  },
  "language_info": {
   "codemirror_mode": {
    "name": "ipython",
    "version": 3
   },
   "file_extension": ".py",
   "mimetype": "text/x-python",
   "name": "python",
   "nbconvert_exporter": "python",
   "pygments_lexer": "ipython3",
   "version": "3.11.4"
  },
  "orphan": true,
  "vscode": {
   "interpreter": {
    "hash": "3c0d54d489a08ae47a06eae2fd00ff032d6cddb527c382959b7b2575f6a8167f"
   }
  }
 },
 "nbformat": 4,
 "nbformat_minor": 5
}
